{
 "cells": [
  {
   "cell_type": "code",
   "execution_count": 3,
   "id": "ce4c358b",
   "metadata": {},
   "outputs": [],
   "source": [
    "#For this lab, we will be using the marketing_customer_analysis.csv file that you can find in the files_for_lab folder. Check out the files_for_lab/about.md to get more information if you are using the Online Excel.\n",
    "\n",
    "#Note: For the next labs we will be using the same data file. Please save the code, so that you can re-use it later in the labs following this lab.\n",
    "\n",
    "#1) Show the dataframe shape.\n",
    "\n",
    "import pandas as pd \n",
    "import numpy as np"
   ]
  },
  {
   "cell_type": "code",
   "execution_count": 4,
   "id": "267528ab",
   "metadata": {},
   "outputs": [
    {
     "name": "stdout",
     "output_type": "stream",
     "text": [
      "Lab Customer Analysis Round 2_W1_D2.ipynb\r\n",
      "\u001b[34mfiles_for_lab\u001b[m\u001b[m\r\n",
      "readme.md\r\n",
      "testgit\r\n"
     ]
    }
   ],
   "source": [
    "!ls"
   ]
  },
  {
   "cell_type": "code",
   "execution_count": 5,
   "id": "37814a0d",
   "metadata": {},
   "outputs": [],
   "source": [
    "marketing_customer_analysis = pd.read_excel('files_for_lab/excel_files/marketing_customer_analysis.xlsx')"
   ]
  },
  {
   "cell_type": "code",
   "execution_count": 6,
   "id": "725bb7d7",
   "metadata": {},
   "outputs": [
    {
     "data": {
      "text/plain": [
       "(10910, 26)"
      ]
     },
     "execution_count": 6,
     "metadata": {},
     "output_type": "execute_result"
    }
   ],
   "source": [
    "marketing_customer_analysis.shape"
   ]
  },
  {
   "cell_type": "code",
   "execution_count": 7,
   "id": "1d74db41",
   "metadata": {},
   "outputs": [
    {
     "data": {
      "text/plain": [
       "Index(['Unnamed: 0', 'Customer', 'State', 'Customer Lifetime Value',\n",
       "       'Response', 'Coverage', 'Education', 'Effective To Date',\n",
       "       'EmploymentStatus', 'Gender', 'Income', 'Location Code',\n",
       "       'Marital Status', 'Monthly Premium Auto', 'Months Since Last Claim',\n",
       "       'Months Since Policy Inception', 'Number of Open Complaints',\n",
       "       'Number of Policies', 'Policy Type', 'Policy', 'Renew Offer Type',\n",
       "       'Sales Channel', 'Total Claim Amount', 'Vehicle Class', 'Vehicle Size',\n",
       "       'Vehicle Type'],\n",
       "      dtype='object')"
      ]
     },
     "metadata": {},
     "output_type": "display_data"
    }
   ],
   "source": [
    "#2) Standardize header names.\n",
    "\n",
    "display(marketing_customer_analysis.columns)"
   ]
  },
  {
   "cell_type": "code",
   "execution_count": 8,
   "id": "54c174c3",
   "metadata": {},
   "outputs": [],
   "source": [
    "cols = []\n",
    "for i in range(len(marketing_customer_analysis.columns)):\n",
    "    cols.append(marketing_customer_analysis.columns[i].lower())\n",
    "marketing_customer_analysis.columns = cols"
   ]
  },
  {
   "cell_type": "code",
   "execution_count": 9,
   "id": "cc473933",
   "metadata": {},
   "outputs": [
    {
     "data": {
      "text/plain": [
       "Index(['unnamed: 0', 'customer', 'state', 'customer lifetime value',\n",
       "       'response', 'coverage', 'education', 'effective to date',\n",
       "       'employmentstatus', 'gender', 'income', 'location code',\n",
       "       'marital status', 'monthly premium auto', 'months since last claim',\n",
       "       'months since policy inception', 'number of open complaints',\n",
       "       'number of policies', 'policy type', 'policy', 'renew offer type',\n",
       "       'sales channel', 'total claim amount', 'vehicle class', 'vehicle size',\n",
       "       'vehicle type'],\n",
       "      dtype='object')"
      ]
     },
     "metadata": {},
     "output_type": "display_data"
    }
   ],
   "source": [
    "display(marketing_customer_analysis.columns)"
   ]
  },
  {
   "cell_type": "code",
   "execution_count": 10,
   "id": "2d4d712a",
   "metadata": {},
   "outputs": [
    {
     "data": {
      "text/html": [
       "<div>\n",
       "<style scoped>\n",
       "    .dataframe tbody tr th:only-of-type {\n",
       "        vertical-align: middle;\n",
       "    }\n",
       "\n",
       "    .dataframe tbody tr th {\n",
       "        vertical-align: top;\n",
       "    }\n",
       "\n",
       "    .dataframe thead th {\n",
       "        text-align: right;\n",
       "    }\n",
       "</style>\n",
       "<table border=\"1\" class=\"dataframe\">\n",
       "  <thead>\n",
       "    <tr style=\"text-align: right;\">\n",
       "      <th></th>\n",
       "      <th>unnamed: 0</th>\n",
       "      <th>customer</th>\n",
       "      <th>state</th>\n",
       "      <th>customer lifetime value</th>\n",
       "      <th>response</th>\n",
       "      <th>coverage</th>\n",
       "      <th>education</th>\n",
       "      <th>effective to date</th>\n",
       "      <th>employmentstatus</th>\n",
       "      <th>gender</th>\n",
       "      <th>...</th>\n",
       "      <th>number of open complaints</th>\n",
       "      <th>number of policies</th>\n",
       "      <th>policy type</th>\n",
       "      <th>policy</th>\n",
       "      <th>renew offer type</th>\n",
       "      <th>sales channel</th>\n",
       "      <th>total claim amount</th>\n",
       "      <th>vehicle class</th>\n",
       "      <th>vehicle size</th>\n",
       "      <th>vehicle type</th>\n",
       "    </tr>\n",
       "  </thead>\n",
       "  <tbody>\n",
       "    <tr>\n",
       "      <th>0</th>\n",
       "      <td>0</td>\n",
       "      <td>DK49336</td>\n",
       "      <td>Arizona</td>\n",
       "      <td>4809.216960</td>\n",
       "      <td>No</td>\n",
       "      <td>Basic</td>\n",
       "      <td>College</td>\n",
       "      <td>2011-02-18</td>\n",
       "      <td>Employed</td>\n",
       "      <td>M</td>\n",
       "      <td>...</td>\n",
       "      <td>0.0</td>\n",
       "      <td>9</td>\n",
       "      <td>Corporate Auto</td>\n",
       "      <td>Corporate L3</td>\n",
       "      <td>Offer3</td>\n",
       "      <td>Agent</td>\n",
       "      <td>292.800000</td>\n",
       "      <td>Four-Door Car</td>\n",
       "      <td>Medsize</td>\n",
       "      <td>NaN</td>\n",
       "    </tr>\n",
       "    <tr>\n",
       "      <th>1</th>\n",
       "      <td>1</td>\n",
       "      <td>KX64629</td>\n",
       "      <td>California</td>\n",
       "      <td>2228.525238</td>\n",
       "      <td>No</td>\n",
       "      <td>Basic</td>\n",
       "      <td>College</td>\n",
       "      <td>2011-01-18</td>\n",
       "      <td>Unemployed</td>\n",
       "      <td>F</td>\n",
       "      <td>...</td>\n",
       "      <td>0.0</td>\n",
       "      <td>1</td>\n",
       "      <td>Personal Auto</td>\n",
       "      <td>Personal L3</td>\n",
       "      <td>Offer4</td>\n",
       "      <td>Call Center</td>\n",
       "      <td>744.924331</td>\n",
       "      <td>Four-Door Car</td>\n",
       "      <td>Medsize</td>\n",
       "      <td>NaN</td>\n",
       "    </tr>\n",
       "    <tr>\n",
       "      <th>2</th>\n",
       "      <td>2</td>\n",
       "      <td>LZ68649</td>\n",
       "      <td>Washington</td>\n",
       "      <td>14947.917300</td>\n",
       "      <td>No</td>\n",
       "      <td>Basic</td>\n",
       "      <td>Bachelor</td>\n",
       "      <td>2011-02-10</td>\n",
       "      <td>Employed</td>\n",
       "      <td>M</td>\n",
       "      <td>...</td>\n",
       "      <td>0.0</td>\n",
       "      <td>2</td>\n",
       "      <td>Personal Auto</td>\n",
       "      <td>Personal L3</td>\n",
       "      <td>Offer3</td>\n",
       "      <td>Call Center</td>\n",
       "      <td>480.000000</td>\n",
       "      <td>SUV</td>\n",
       "      <td>Medsize</td>\n",
       "      <td>A</td>\n",
       "    </tr>\n",
       "    <tr>\n",
       "      <th>3</th>\n",
       "      <td>3</td>\n",
       "      <td>XL78013</td>\n",
       "      <td>Oregon</td>\n",
       "      <td>22332.439460</td>\n",
       "      <td>Yes</td>\n",
       "      <td>Extended</td>\n",
       "      <td>College</td>\n",
       "      <td>2011-01-11</td>\n",
       "      <td>Employed</td>\n",
       "      <td>M</td>\n",
       "      <td>...</td>\n",
       "      <td>0.0</td>\n",
       "      <td>2</td>\n",
       "      <td>Corporate Auto</td>\n",
       "      <td>Corporate L3</td>\n",
       "      <td>Offer2</td>\n",
       "      <td>Branch</td>\n",
       "      <td>484.013411</td>\n",
       "      <td>Four-Door Car</td>\n",
       "      <td>Medsize</td>\n",
       "      <td>A</td>\n",
       "    </tr>\n",
       "    <tr>\n",
       "      <th>4</th>\n",
       "      <td>4</td>\n",
       "      <td>QA50777</td>\n",
       "      <td>Oregon</td>\n",
       "      <td>9025.067525</td>\n",
       "      <td>No</td>\n",
       "      <td>Premium</td>\n",
       "      <td>Bachelor</td>\n",
       "      <td>2011-01-17</td>\n",
       "      <td>Medical Leave</td>\n",
       "      <td>F</td>\n",
       "      <td>...</td>\n",
       "      <td>NaN</td>\n",
       "      <td>7</td>\n",
       "      <td>Personal Auto</td>\n",
       "      <td>Personal L2</td>\n",
       "      <td>Offer1</td>\n",
       "      <td>Branch</td>\n",
       "      <td>707.925645</td>\n",
       "      <td>Four-Door Car</td>\n",
       "      <td>Medsize</td>\n",
       "      <td>NaN</td>\n",
       "    </tr>\n",
       "  </tbody>\n",
       "</table>\n",
       "<p>5 rows × 26 columns</p>\n",
       "</div>"
      ],
      "text/plain": [
       "   unnamed: 0 customer       state  customer lifetime value response  \\\n",
       "0           0  DK49336     Arizona              4809.216960       No   \n",
       "1           1  KX64629  California              2228.525238       No   \n",
       "2           2  LZ68649  Washington             14947.917300       No   \n",
       "3           3  XL78013      Oregon             22332.439460      Yes   \n",
       "4           4  QA50777      Oregon              9025.067525       No   \n",
       "\n",
       "   coverage education effective to date employmentstatus gender  ...  \\\n",
       "0     Basic   College        2011-02-18         Employed      M  ...   \n",
       "1     Basic   College        2011-01-18       Unemployed      F  ...   \n",
       "2     Basic  Bachelor        2011-02-10         Employed      M  ...   \n",
       "3  Extended   College        2011-01-11         Employed      M  ...   \n",
       "4   Premium  Bachelor        2011-01-17    Medical Leave      F  ...   \n",
       "\n",
       "   number of open complaints number of policies     policy type        policy  \\\n",
       "0                        0.0                  9  Corporate Auto  Corporate L3   \n",
       "1                        0.0                  1   Personal Auto   Personal L3   \n",
       "2                        0.0                  2   Personal Auto   Personal L3   \n",
       "3                        0.0                  2  Corporate Auto  Corporate L3   \n",
       "4                        NaN                  7   Personal Auto   Personal L2   \n",
       "\n",
       "   renew offer type  sales channel  total claim amount  vehicle class  \\\n",
       "0            Offer3          Agent          292.800000  Four-Door Car   \n",
       "1            Offer4    Call Center          744.924331  Four-Door Car   \n",
       "2            Offer3    Call Center          480.000000            SUV   \n",
       "3            Offer2         Branch          484.013411  Four-Door Car   \n",
       "4            Offer1         Branch          707.925645  Four-Door Car   \n",
       "\n",
       "  vehicle size vehicle type  \n",
       "0      Medsize          NaN  \n",
       "1      Medsize          NaN  \n",
       "2      Medsize            A  \n",
       "3      Medsize            A  \n",
       "4      Medsize          NaN  \n",
       "\n",
       "[5 rows x 26 columns]"
      ]
     },
     "execution_count": 10,
     "metadata": {},
     "output_type": "execute_result"
    }
   ],
   "source": [
    "marketing_customer_analysis.head()"
   ]
  },
  {
   "cell_type": "code",
   "execution_count": 11,
   "id": "14552da0",
   "metadata": {},
   "outputs": [
    {
     "name": "stdout",
     "output_type": "stream",
     "text": [
      "<class 'pandas.core.frame.DataFrame'>\n",
      "RangeIndex: 10910 entries, 0 to 10909\n",
      "Data columns (total 26 columns):\n",
      " #   Column                         Non-Null Count  Dtype         \n",
      "---  ------                         --------------  -----         \n",
      " 0   unnamed: 0                     10910 non-null  int64         \n",
      " 1   customer                       10910 non-null  object        \n",
      " 2   state                          10279 non-null  object        \n",
      " 3   customer lifetime value        10910 non-null  float64       \n",
      " 4   response                       10279 non-null  object        \n",
      " 5   coverage                       10910 non-null  object        \n",
      " 6   education                      10910 non-null  object        \n",
      " 7   effective to date              10910 non-null  datetime64[ns]\n",
      " 8   employmentstatus               10910 non-null  object        \n",
      " 9   gender                         10910 non-null  object        \n",
      " 10  income                         10910 non-null  int64         \n",
      " 11  location code                  10910 non-null  object        \n",
      " 12  marital status                 10910 non-null  object        \n",
      " 13  monthly premium auto           10910 non-null  int64         \n",
      " 14  months since last claim        10277 non-null  float64       \n",
      " 15  months since policy inception  10910 non-null  int64         \n",
      " 16  number of open complaints      10277 non-null  float64       \n",
      " 17  number of policies             10910 non-null  int64         \n",
      " 18  policy type                    10910 non-null  object        \n",
      " 19  policy                         10910 non-null  object        \n",
      " 20  renew offer type               10910 non-null  object        \n",
      " 21  sales channel                  10910 non-null  object        \n",
      " 22  total claim amount             10910 non-null  float64       \n",
      " 23  vehicle class                  10288 non-null  object        \n",
      " 24  vehicle size                   10288 non-null  object        \n",
      " 25  vehicle type                   5428 non-null   object        \n",
      "dtypes: datetime64[ns](1), float64(4), int64(5), object(16)\n",
      "memory usage: 2.2+ MB\n"
     ]
    }
   ],
   "source": [
    "#3) Which columns are numerical? Which columns are categorical?\n",
    "\n",
    "marketing_customer_analysis.info()"
   ]
  },
  {
   "cell_type": "code",
   "execution_count": 12,
   "id": "67586cd2",
   "metadata": {},
   "outputs": [
    {
     "name": "stdout",
     "output_type": "stream",
     "text": [
      "unnamed: 0                          0\n",
      "customer                            0\n",
      "state                             631\n",
      "customer lifetime value             0\n",
      "response                          631\n",
      "coverage                            0\n",
      "education                           0\n",
      "effective to date                   0\n",
      "employmentstatus                    0\n",
      "gender                              0\n",
      "income                              0\n",
      "location code                       0\n",
      "marital status                      0\n",
      "monthly premium auto                0\n",
      "months since last claim           633\n",
      "months since policy inception       0\n",
      "number of open complaints         633\n",
      "number of policies                  0\n",
      "policy type                         0\n",
      "policy                              0\n",
      "renew offer type                    0\n",
      "sales channel                       0\n",
      "total claim amount                  0\n",
      "vehicle class                     622\n",
      "vehicle size                      622\n",
      "vehicle type                     5482\n",
      "dtype: int64\n"
     ]
    }
   ],
   "source": [
    "#4) Check and deal with NaN values.\n",
    "\n",
    "#measure the sum of NaN values with the function: print(df.isna().sum())\n",
    "print(marketing_customer_analysis.isna().sum())"
   ]
  },
  {
   "cell_type": "code",
   "execution_count": 14,
   "id": "9fdd6f0d",
   "metadata": {},
   "outputs": [
    {
     "data": {
      "text/plain": [
       "(10910, 26)"
      ]
     },
     "execution_count": 14,
     "metadata": {},
     "output_type": "execute_result"
    }
   ],
   "source": [
    "marketing_customer_analysis.shape"
   ]
  },
  {
   "cell_type": "code",
   "execution_count": 11,
   "id": "4cc700ee",
   "metadata": {},
   "outputs": [],
   "source": [
    "# to deal with NaN values there are diferent methods, depending on what is the porpuse:\n",
    "\n",
    "# df = df.dropna() --> remove rows or columns that contain NaN values\n",
    "# df = df.fillna(0) --> replace NaN values with a specific value. For example, to replace all NaN values with 0\n",
    "# df = df.interpolate() --> fill NaN values with interpolated values.\n",
    "# df = df.ffill() --> fill NaN values with the previous value. \n",
    "# df = df.bfill() --> fill NaN values with the next value.\n",
    "# df = df.assign() --> assign a value to specific cells based on certain conditions.\n",
    "\n",
    "# if want to do it just for a specific column i use: df['A'] = df['A'].fillna(0)\n"
   ]
  },
  {
   "cell_type": "code",
   "execution_count": 17,
   "id": "4cda82ac",
   "metadata": {},
   "outputs": [
    {
     "data": {
      "text/html": [
       "<div>\n",
       "<style scoped>\n",
       "    .dataframe tbody tr th:only-of-type {\n",
       "        vertical-align: middle;\n",
       "    }\n",
       "\n",
       "    .dataframe tbody tr th {\n",
       "        vertical-align: top;\n",
       "    }\n",
       "\n",
       "    .dataframe thead th {\n",
       "        text-align: right;\n",
       "    }\n",
       "</style>\n",
       "<table border=\"1\" class=\"dataframe\">\n",
       "  <thead>\n",
       "    <tr style=\"text-align: right;\">\n",
       "      <th></th>\n",
       "      <th>unnamed: 0</th>\n",
       "      <th>customer</th>\n",
       "      <th>state</th>\n",
       "      <th>customer lifetime value</th>\n",
       "      <th>response</th>\n",
       "      <th>coverage</th>\n",
       "      <th>education</th>\n",
       "      <th>effective to date</th>\n",
       "      <th>employmentstatus</th>\n",
       "      <th>gender</th>\n",
       "      <th>...</th>\n",
       "      <th>number of open complaints</th>\n",
       "      <th>number of policies</th>\n",
       "      <th>policy type</th>\n",
       "      <th>policy</th>\n",
       "      <th>renew offer type</th>\n",
       "      <th>sales channel</th>\n",
       "      <th>total claim amount</th>\n",
       "      <th>vehicle class</th>\n",
       "      <th>vehicle size</th>\n",
       "      <th>vehicle type</th>\n",
       "    </tr>\n",
       "  </thead>\n",
       "  <tbody>\n",
       "    <tr>\n",
       "      <th>0</th>\n",
       "      <td>0</td>\n",
       "      <td>DK49336</td>\n",
       "      <td>Arizona</td>\n",
       "      <td>4809.216960</td>\n",
       "      <td>No</td>\n",
       "      <td>Basic</td>\n",
       "      <td>College</td>\n",
       "      <td>2011-02-18</td>\n",
       "      <td>Employed</td>\n",
       "      <td>M</td>\n",
       "      <td>...</td>\n",
       "      <td>0.0</td>\n",
       "      <td>9</td>\n",
       "      <td>Corporate Auto</td>\n",
       "      <td>Corporate L3</td>\n",
       "      <td>Offer3</td>\n",
       "      <td>Agent</td>\n",
       "      <td>292.800000</td>\n",
       "      <td>Four-Door Car</td>\n",
       "      <td>Medsize</td>\n",
       "      <td>NaN</td>\n",
       "    </tr>\n",
       "    <tr>\n",
       "      <th>1</th>\n",
       "      <td>1</td>\n",
       "      <td>KX64629</td>\n",
       "      <td>California</td>\n",
       "      <td>2228.525238</td>\n",
       "      <td>No</td>\n",
       "      <td>Basic</td>\n",
       "      <td>College</td>\n",
       "      <td>2011-01-18</td>\n",
       "      <td>Unemployed</td>\n",
       "      <td>F</td>\n",
       "      <td>...</td>\n",
       "      <td>0.0</td>\n",
       "      <td>1</td>\n",
       "      <td>Personal Auto</td>\n",
       "      <td>Personal L3</td>\n",
       "      <td>Offer4</td>\n",
       "      <td>Call Center</td>\n",
       "      <td>744.924331</td>\n",
       "      <td>Four-Door Car</td>\n",
       "      <td>Medsize</td>\n",
       "      <td>NaN</td>\n",
       "    </tr>\n",
       "    <tr>\n",
       "      <th>2</th>\n",
       "      <td>2</td>\n",
       "      <td>LZ68649</td>\n",
       "      <td>Washington</td>\n",
       "      <td>14947.917300</td>\n",
       "      <td>No</td>\n",
       "      <td>Basic</td>\n",
       "      <td>Bachelor</td>\n",
       "      <td>2011-02-10</td>\n",
       "      <td>Employed</td>\n",
       "      <td>M</td>\n",
       "      <td>...</td>\n",
       "      <td>0.0</td>\n",
       "      <td>2</td>\n",
       "      <td>Personal Auto</td>\n",
       "      <td>Personal L3</td>\n",
       "      <td>Offer3</td>\n",
       "      <td>Call Center</td>\n",
       "      <td>480.000000</td>\n",
       "      <td>SUV</td>\n",
       "      <td>Medsize</td>\n",
       "      <td>A</td>\n",
       "    </tr>\n",
       "    <tr>\n",
       "      <th>3</th>\n",
       "      <td>3</td>\n",
       "      <td>XL78013</td>\n",
       "      <td>Oregon</td>\n",
       "      <td>22332.439460</td>\n",
       "      <td>Yes</td>\n",
       "      <td>Extended</td>\n",
       "      <td>College</td>\n",
       "      <td>2011-01-11</td>\n",
       "      <td>Employed</td>\n",
       "      <td>M</td>\n",
       "      <td>...</td>\n",
       "      <td>0.0</td>\n",
       "      <td>2</td>\n",
       "      <td>Corporate Auto</td>\n",
       "      <td>Corporate L3</td>\n",
       "      <td>Offer2</td>\n",
       "      <td>Branch</td>\n",
       "      <td>484.013411</td>\n",
       "      <td>Four-Door Car</td>\n",
       "      <td>Medsize</td>\n",
       "      <td>A</td>\n",
       "    </tr>\n",
       "    <tr>\n",
       "      <th>4</th>\n",
       "      <td>4</td>\n",
       "      <td>QA50777</td>\n",
       "      <td>Oregon</td>\n",
       "      <td>9025.067525</td>\n",
       "      <td>No</td>\n",
       "      <td>Premium</td>\n",
       "      <td>Bachelor</td>\n",
       "      <td>2011-01-17</td>\n",
       "      <td>Medical Leave</td>\n",
       "      <td>F</td>\n",
       "      <td>...</td>\n",
       "      <td>NaN</td>\n",
       "      <td>7</td>\n",
       "      <td>Personal Auto</td>\n",
       "      <td>Personal L2</td>\n",
       "      <td>Offer1</td>\n",
       "      <td>Branch</td>\n",
       "      <td>707.925645</td>\n",
       "      <td>Four-Door Car</td>\n",
       "      <td>Medsize</td>\n",
       "      <td>NaN</td>\n",
       "    </tr>\n",
       "  </tbody>\n",
       "</table>\n",
       "<p>5 rows × 26 columns</p>\n",
       "</div>"
      ],
      "text/plain": [
       "   unnamed: 0 customer       state  customer lifetime value response  \\\n",
       "0           0  DK49336     Arizona              4809.216960       No   \n",
       "1           1  KX64629  California              2228.525238       No   \n",
       "2           2  LZ68649  Washington             14947.917300       No   \n",
       "3           3  XL78013      Oregon             22332.439460      Yes   \n",
       "4           4  QA50777      Oregon              9025.067525       No   \n",
       "\n",
       "   coverage education effective to date employmentstatus gender  ...  \\\n",
       "0     Basic   College        2011-02-18         Employed      M  ...   \n",
       "1     Basic   College        2011-01-18       Unemployed      F  ...   \n",
       "2     Basic  Bachelor        2011-02-10         Employed      M  ...   \n",
       "3  Extended   College        2011-01-11         Employed      M  ...   \n",
       "4   Premium  Bachelor        2011-01-17    Medical Leave      F  ...   \n",
       "\n",
       "   number of open complaints number of policies     policy type        policy  \\\n",
       "0                        0.0                  9  Corporate Auto  Corporate L3   \n",
       "1                        0.0                  1   Personal Auto   Personal L3   \n",
       "2                        0.0                  2   Personal Auto   Personal L3   \n",
       "3                        0.0                  2  Corporate Auto  Corporate L3   \n",
       "4                        NaN                  7   Personal Auto   Personal L2   \n",
       "\n",
       "   renew offer type  sales channel  total claim amount  vehicle class  \\\n",
       "0            Offer3          Agent          292.800000  Four-Door Car   \n",
       "1            Offer4    Call Center          744.924331  Four-Door Car   \n",
       "2            Offer3    Call Center          480.000000            SUV   \n",
       "3            Offer2         Branch          484.013411  Four-Door Car   \n",
       "4            Offer1         Branch          707.925645  Four-Door Car   \n",
       "\n",
       "  vehicle size vehicle type  \n",
       "0      Medsize          NaN  \n",
       "1      Medsize          NaN  \n",
       "2      Medsize            A  \n",
       "3      Medsize            A  \n",
       "4      Medsize          NaN  \n",
       "\n",
       "[5 rows x 26 columns]"
      ]
     },
     "execution_count": 17,
     "metadata": {},
     "output_type": "execute_result"
    }
   ],
   "source": [
    "marketing_customer_analysis.head()"
   ]
  },
  {
   "cell_type": "code",
   "execution_count": 29,
   "id": "89e30d41",
   "metadata": {},
   "outputs": [
    {
     "data": {
      "text/plain": [
       "'state'"
      ]
     },
     "metadata": {},
     "output_type": "display_data"
    },
    {
     "data": {
      "text/plain": [
       "array(['Arizona', 'California', 'Washington', 'Oregon', nan, 'Nevada'],\n",
       "      dtype=object)"
      ]
     },
     "metadata": {},
     "output_type": "display_data"
    },
    {
     "data": {
      "text/plain": [
       "'response'"
      ]
     },
     "metadata": {},
     "output_type": "display_data"
    },
    {
     "data": {
      "text/plain": [
       "array(['No', 'Yes', nan], dtype=object)"
      ]
     },
     "metadata": {},
     "output_type": "display_data"
    }
   ],
   "source": [
    "display('state', marketing_customer_analysis['state'].unique())\n",
    "display('response',marketing_customer_analysis['response'].unique())"
   ]
  },
  {
   "cell_type": "code",
   "execution_count": 61,
   "id": "30042eaa",
   "metadata": {},
   "outputs": [
    {
     "name": "stdout",
     "output_type": "stream",
     "text": [
      "months since last claim stats:\n"
     ]
    },
    {
     "data": {
      "text/plain": [
       "count    10277.000000\n",
       "mean        15.149071\n",
       "std         10.080349\n",
       "min          0.000000\n",
       "25%          6.000000\n",
       "50%         14.000000\n",
       "75%         23.000000\n",
       "max         35.000000\n",
       "Name: months since last claim, dtype: float64"
      ]
     },
     "metadata": {},
     "output_type": "display_data"
    },
    {
     "name": "stdout",
     "output_type": "stream",
     "text": [
      "NaN  633\n",
      "NaN / Total:  6.16 %\n"
     ]
    }
   ],
   "source": [
    "#Desition for numerical values. Stats Description. \n",
    "\n",
    "#' months since last claim stats:' \n",
    "print('months since last claim stats:')\n",
    "display(marketing_customer_analysis['months since last claim'].describe())\n",
    "print(\"NaN \", marketing_customer_analysis['months since last claim'].isna().sum())\n",
    "print(\"NaN / Total: \",round(marketing_customer_analysis['months since last claim'].isna().sum()/marketing_customer_analysis['months since last claim'].count()*100,2),\"%\")"
   ]
  },
  {
   "cell_type": "code",
   "execution_count": 63,
   "id": "61f3bbc8",
   "metadata": {},
   "outputs": [],
   "source": [
    "# in this case because the Std is relatively high, is not recomendable to replace with the mean or mode values. Other aproach that is not jet teach should be applied, like interpolation or regression. For This excercie i will apply mean. \n",
    "\n",
    "mean_mslc = marketing_customer_analysis['months since last claim'].mean()\n",
    "\n",
    "marketing_customer_analysis['months since last claim'] = marketing_customer_analysis['months since last claim'].fillna(mean_mslc)    "
   ]
  },
  {
   "cell_type": "code",
   "execution_count": 67,
   "id": "72d751c8",
   "metadata": {},
   "outputs": [
    {
     "data": {
      "text/plain": [
       "0"
      ]
     },
     "execution_count": 67,
     "metadata": {},
     "output_type": "execute_result"
    }
   ],
   "source": [
    "marketing_customer_analysis['months since last claim'].isna().sum()"
   ]
  },
  {
   "cell_type": "code",
   "execution_count": 68,
   "id": "a5b55a33",
   "metadata": {},
   "outputs": [
    {
     "name": "stdout",
     "output_type": "stream",
     "text": [
      "number of open complaints:\n"
     ]
    },
    {
     "data": {
      "text/plain": [
       "count    10277.000000\n",
       "mean         0.384256\n",
       "std          0.912457\n",
       "min          0.000000\n",
       "25%          0.000000\n",
       "50%          0.000000\n",
       "75%          0.000000\n",
       "max          5.000000\n",
       "Name: number of open complaints, dtype: float64"
      ]
     },
     "metadata": {},
     "output_type": "display_data"
    },
    {
     "name": "stdout",
     "output_type": "stream",
     "text": [
      "NaN  633\n",
      "NaN / Total:  6.16 %\n"
     ]
    }
   ],
   "source": [
    "# Dealing with: number of open complaints\n",
    "# Stats\n",
    "\n",
    "print('number of open complaints:')\n",
    "display(marketing_customer_analysis['number of open complaints'].describe())\n",
    "print(\"NaN \", marketing_customer_analysis['number of open complaints'].isna().sum())\n",
    "print(\"NaN / Total: \",round(marketing_customer_analysis['number of open complaints'].isna().sum()/marketing_customer_analysis['number of open complaints'].count()*100,2),\"%\")"
   ]
  },
  {
   "cell_type": "code",
   "execution_count": 69,
   "id": "06adc40f",
   "metadata": {},
   "outputs": [
    {
     "data": {
      "text/plain": [
       "0"
      ]
     },
     "execution_count": 69,
     "metadata": {},
     "output_type": "execute_result"
    }
   ],
   "source": [
    "#in this case i will replace the missing values with the value 0, assuming that the NaN represent no Complaints. \n",
    "\n",
    "marketing_customer_analysis['number of open complaints'] = marketing_customer_analysis['number of open complaints'].fillna(0)    \n",
    "\n",
    "\n",
    "marketing_customer_analysis['number of open complaints'].isna().sum()"
   ]
  },
  {
   "cell_type": "code",
   "execution_count": 70,
   "id": "c5379b35",
   "metadata": {},
   "outputs": [
    {
     "name": "stdout",
     "output_type": "stream",
     "text": [
      "unnamed: 0                          0\n",
      "customer                            0\n",
      "state                             631\n",
      "customer lifetime value             0\n",
      "response                          631\n",
      "coverage                            0\n",
      "education                           0\n",
      "effective to date                   0\n",
      "employmentstatus                    0\n",
      "gender                              0\n",
      "income                              0\n",
      "location code                       0\n",
      "marital status                      0\n",
      "monthly premium auto                0\n",
      "months since last claim             0\n",
      "months since policy inception       0\n",
      "number of open complaints           0\n",
      "number of policies                  0\n",
      "policy type                         0\n",
      "policy                              0\n",
      "renew offer type                    0\n",
      "sales channel                       0\n",
      "total claim amount                  0\n",
      "vehicle class                     622\n",
      "vehicle size                      622\n",
      "vehicle type                     5482\n",
      "dtype: int64\n",
      "<class 'pandas.core.frame.DataFrame'>\n",
      "RangeIndex: 10910 entries, 0 to 10909\n",
      "Data columns (total 26 columns):\n",
      " #   Column                         Non-Null Count  Dtype         \n",
      "---  ------                         --------------  -----         \n",
      " 0   unnamed: 0                     10910 non-null  int64         \n",
      " 1   customer                       10910 non-null  object        \n",
      " 2   state                          10279 non-null  object        \n",
      " 3   customer lifetime value        10910 non-null  float64       \n",
      " 4   response                       10279 non-null  object        \n",
      " 5   coverage                       10910 non-null  object        \n",
      " 6   education                      10910 non-null  object        \n",
      " 7   effective to date              10910 non-null  datetime64[ns]\n",
      " 8   employmentstatus               10910 non-null  object        \n",
      " 9   gender                         10910 non-null  object        \n",
      " 10  income                         10910 non-null  int64         \n",
      " 11  location code                  10910 non-null  object        \n",
      " 12  marital status                 10910 non-null  object        \n",
      " 13  monthly premium auto           10910 non-null  int64         \n",
      " 14  months since last claim        10910 non-null  float64       \n",
      " 15  months since policy inception  10910 non-null  int64         \n",
      " 16  number of open complaints      10910 non-null  float64       \n",
      " 17  number of policies             10910 non-null  int64         \n",
      " 18  policy type                    10910 non-null  object        \n",
      " 19  policy                         10910 non-null  object        \n",
      " 20  renew offer type               10910 non-null  object        \n",
      " 21  sales channel                  10910 non-null  object        \n",
      " 22  total claim amount             10910 non-null  float64       \n",
      " 23  vehicle class                  10288 non-null  object        \n",
      " 24  vehicle size                   10288 non-null  object        \n",
      " 25  vehicle type                   5428 non-null   object        \n",
      "dtypes: datetime64[ns](1), float64(4), int64(5), object(16)\n",
      "memory usage: 2.2+ MB\n"
     ]
    },
    {
     "data": {
      "text/plain": [
       "None"
      ]
     },
     "metadata": {},
     "output_type": "display_data"
    }
   ],
   "source": [
    "print(marketing_customer_analysis.isna().sum())\n",
    "display(marketing_customer_analysis.info())"
   ]
  },
  {
   "cell_type": "code",
   "execution_count": 71,
   "id": "999380bb",
   "metadata": {},
   "outputs": [
    {
     "data": {
      "text/plain": [
       "'response'"
      ]
     },
     "metadata": {},
     "output_type": "display_data"
    },
    {
     "data": {
      "text/plain": [
       "array(['No', 'Yes', nan], dtype=object)"
      ]
     },
     "metadata": {},
     "output_type": "display_data"
    }
   ],
   "source": [
    "# Now i just have \"object\" columns types to replace\n",
    "\n",
    "# Dealing with 'Response': \n",
    "\n",
    "display('response',marketing_customer_analysis['response'].unique())"
   ]
  },
  {
   "cell_type": "code",
   "execution_count": 79,
   "id": "9725ef07",
   "metadata": {},
   "outputs": [
    {
     "data": {
      "text/plain": [
       "count     10279\n",
       "unique        2\n",
       "top          No\n",
       "freq       8813\n",
       "Name: response, dtype: object"
      ]
     },
     "metadata": {},
     "output_type": "display_data"
    }
   ],
   "source": [
    "marketing_customer_analysis['response'].mode()\n",
    "display(marketing_customer_analysis['response'].describe())"
   ]
  },
  {
   "cell_type": "code",
   "execution_count": 80,
   "id": "cde02713",
   "metadata": {},
   "outputs": [
    {
     "data": {
      "text/plain": [
       "0"
      ]
     },
     "execution_count": 80,
     "metadata": {},
     "output_type": "execute_result"
    }
   ],
   "source": [
    "# In this case i will replace NaN for the Mode that is No 8813 in 10279 times. \n",
    "\n",
    "marketing_customer_analysis['response'] = marketing_customer_analysis['response'].fillna(\"No\")    \n",
    "\n",
    "\n",
    "marketing_customer_analysis['response'].isna().sum()"
   ]
  },
  {
   "cell_type": "code",
   "execution_count": 82,
   "id": "caec2f72",
   "metadata": {},
   "outputs": [],
   "source": [
    "# Dealing with State: \n",
    "\n",
    "#Is not possible to replace with any value and it feels like an imporatnt value, it will be better to erase the NaN\n",
    "\n",
    "marketing_customer_analysis = marketing_customer_analysis[marketing_customer_analysis['state'].isna()==False]\n"
   ]
  },
  {
   "cell_type": "code",
   "execution_count": 83,
   "id": "ef0d8381",
   "metadata": {},
   "outputs": [
    {
     "name": "stdout",
     "output_type": "stream",
     "text": [
      "<class 'pandas.core.frame.DataFrame'>\n",
      "Int64Index: 10279 entries, 0 to 10908\n",
      "Data columns (total 26 columns):\n",
      " #   Column                         Non-Null Count  Dtype         \n",
      "---  ------                         --------------  -----         \n",
      " 0   unnamed: 0                     10279 non-null  int64         \n",
      " 1   customer                       10279 non-null  object        \n",
      " 2   state                          10279 non-null  object        \n",
      " 3   customer lifetime value        10279 non-null  float64       \n",
      " 4   response                       10279 non-null  object        \n",
      " 5   coverage                       10279 non-null  object        \n",
      " 6   education                      10279 non-null  object        \n",
      " 7   effective to date              10279 non-null  datetime64[ns]\n",
      " 8   employmentstatus               10279 non-null  object        \n",
      " 9   gender                         10279 non-null  object        \n",
      " 10  income                         10279 non-null  int64         \n",
      " 11  location code                  10279 non-null  object        \n",
      " 12  marital status                 10279 non-null  object        \n",
      " 13  monthly premium auto           10279 non-null  int64         \n",
      " 14  months since last claim        10279 non-null  float64       \n",
      " 15  months since policy inception  10279 non-null  int64         \n",
      " 16  number of open complaints      10279 non-null  float64       \n",
      " 17  number of policies             10279 non-null  int64         \n",
      " 18  policy type                    10279 non-null  object        \n",
      " 19  policy                         10279 non-null  object        \n",
      " 20  renew offer type               10279 non-null  object        \n",
      " 21  sales channel                  10279 non-null  object        \n",
      " 22  total claim amount             10279 non-null  float64       \n",
      " 23  vehicle class                  9688 non-null   object        \n",
      " 24  vehicle size                   9688 non-null   object        \n",
      " 25  vehicle type                   5115 non-null   object        \n",
      "dtypes: datetime64[ns](1), float64(4), int64(5), object(16)\n",
      "memory usage: 2.1+ MB\n"
     ]
    },
    {
     "data": {
      "text/plain": [
       "None"
      ]
     },
     "metadata": {},
     "output_type": "display_data"
    }
   ],
   "source": [
    "display(marketing_customer_analysis.info())"
   ]
  },
  {
   "cell_type": "code",
   "execution_count": 84,
   "id": "e2c14051",
   "metadata": {},
   "outputs": [
    {
     "name": "stdout",
     "output_type": "stream",
     "text": [
      "unnamed: 0                          0\n",
      "customer                            0\n",
      "state                               0\n",
      "customer lifetime value             0\n",
      "response                            0\n",
      "coverage                            0\n",
      "education                           0\n",
      "effective to date                   0\n",
      "employmentstatus                    0\n",
      "gender                              0\n",
      "income                              0\n",
      "location code                       0\n",
      "marital status                      0\n",
      "monthly premium auto                0\n",
      "months since last claim             0\n",
      "months since policy inception       0\n",
      "number of open complaints           0\n",
      "number of policies                  0\n",
      "policy type                         0\n",
      "policy                              0\n",
      "renew offer type                    0\n",
      "sales channel                       0\n",
      "total claim amount                  0\n",
      "vehicle class                     591\n",
      "vehicle size                      591\n",
      "vehicle type                     5164\n",
      "dtype: int64\n"
     ]
    }
   ],
   "source": [
    "print(marketing_customer_analysis.isna().sum())"
   ]
  },
  {
   "cell_type": "code",
   "execution_count": 87,
   "id": "4dc09e37",
   "metadata": {},
   "outputs": [
    {
     "data": {
      "text/plain": [
       "'vehicle class'"
      ]
     },
     "metadata": {},
     "output_type": "display_data"
    },
    {
     "data": {
      "text/plain": [
       "array(['Four-Door Car', 'SUV', 'Two-Door Car', 'Sports Car', 'Luxury Car',\n",
       "       'Luxury SUV', nan], dtype=object)"
      ]
     },
     "metadata": {},
     "output_type": "display_data"
    },
    {
     "data": {
      "text/plain": [
       "'vehicle size '"
      ]
     },
     "metadata": {},
     "output_type": "display_data"
    },
    {
     "data": {
      "text/plain": [
       "array(['Medsize', 'Small', 'Large', nan], dtype=object)"
      ]
     },
     "metadata": {},
     "output_type": "display_data"
    }
   ],
   "source": [
    "display('vehicle class',marketing_customer_analysis['vehicle class'].unique())\n",
    "display('vehicle size ',marketing_customer_analysis['vehicle size'].unique())"
   ]
  },
  {
   "cell_type": "code",
   "execution_count": 88,
   "id": "ac54aefb",
   "metadata": {},
   "outputs": [
    {
     "name": "stdout",
     "output_type": "stream",
     "text": [
      "NaN / Total:  6.1 %\n"
     ]
    }
   ],
   "source": [
    "# Dealing with 'vehicle class'\n",
    "print(\"NaN / Total: \",round(marketing_customer_analysis['vehicle class'].isna().sum()/marketing_customer_analysis['vehicle class'].count()*100,2),\"%\")\n"
   ]
  },
  {
   "cell_type": "code",
   "execution_count": 89,
   "id": "59fd877f",
   "metadata": {},
   "outputs": [],
   "source": [
    "#Is not possible to replace with any value, as theu are not so many, 6,1% , it will be better to erase the NaN\n",
    "\n",
    "marketing_customer_analysis = marketing_customer_analysis[marketing_customer_analysis['vehicle class'].isna()==False]\n"
   ]
  },
  {
   "cell_type": "code",
   "execution_count": 90,
   "id": "4e38782b",
   "metadata": {},
   "outputs": [
    {
     "name": "stdout",
     "output_type": "stream",
     "text": [
      "unnamed: 0                          0\n",
      "customer                            0\n",
      "state                               0\n",
      "customer lifetime value             0\n",
      "response                            0\n",
      "coverage                            0\n",
      "education                           0\n",
      "effective to date                   0\n",
      "employmentstatus                    0\n",
      "gender                              0\n",
      "income                              0\n",
      "location code                       0\n",
      "marital status                      0\n",
      "monthly premium auto                0\n",
      "months since last claim             0\n",
      "months since policy inception       0\n",
      "number of open complaints           0\n",
      "number of policies                  0\n",
      "policy type                         0\n",
      "policy                              0\n",
      "renew offer type                    0\n",
      "sales channel                       0\n",
      "total claim amount                  0\n",
      "vehicle class                       0\n",
      "vehicle size                        0\n",
      "vehicle type                     4869\n",
      "dtype: int64\n"
     ]
    }
   ],
   "source": [
    "print(marketing_customer_analysis.isna().sum())"
   ]
  },
  {
   "cell_type": "code",
   "execution_count": 91,
   "id": "874d864d",
   "metadata": {},
   "outputs": [
    {
     "data": {
      "text/plain": [
       "'vehicle type'"
      ]
     },
     "metadata": {},
     "output_type": "display_data"
    },
    {
     "data": {
      "text/plain": [
       "array([nan, 'A'], dtype=object)"
      ]
     },
     "metadata": {},
     "output_type": "display_data"
    }
   ],
   "source": [
    "#Dealing whit 'vehicle type'\n",
    "\n",
    "display('vehicle type',marketing_customer_analysis['vehicle type'].unique())"
   ]
  },
  {
   "cell_type": "code",
   "execution_count": 92,
   "id": "c8203559",
   "metadata": {},
   "outputs": [
    {
     "name": "stderr",
     "output_type": "stream",
     "text": [
      "/var/folders/2b/6f80d7g11sl53b_wrqy2w81r0000gn/T/ipykernel_5668/3926224545.py:4: SettingWithCopyWarning: \n",
      "A value is trying to be set on a copy of a slice from a DataFrame.\n",
      "Try using .loc[row_indexer,col_indexer] = value instead\n",
      "\n",
      "See the caveats in the documentation: https://pandas.pydata.org/pandas-docs/stable/user_guide/indexing.html#returning-a-view-versus-a-copy\n",
      "  marketing_customer_analysis['vehicle type'] = marketing_customer_analysis['vehicle type'].fillna(\"A\")\n"
     ]
    },
    {
     "data": {
      "text/plain": [
       "0"
      ]
     },
     "execution_count": 92,
     "metadata": {},
     "output_type": "execute_result"
    }
   ],
   "source": [
    "#It seems that the only tipe is vahicle type A, i will replace NaN with \"A\" (it will be better to confirm with the people that know about the car types on the cmpany first)\n",
    "\n",
    "\n",
    "marketing_customer_analysis['vehicle type'] = marketing_customer_analysis['vehicle type'].fillna(\"A\")    \n",
    "\n",
    "\n",
    "marketing_customer_analysis['vehicle type'].isna().sum()"
   ]
  },
  {
   "cell_type": "code",
   "execution_count": 93,
   "id": "0a069a7b",
   "metadata": {},
   "outputs": [
    {
     "name": "stdout",
     "output_type": "stream",
     "text": [
      "<class 'pandas.core.frame.DataFrame'>\n",
      "Int64Index: 9688 entries, 0 to 10908\n",
      "Data columns (total 26 columns):\n",
      " #   Column                         Non-Null Count  Dtype         \n",
      "---  ------                         --------------  -----         \n",
      " 0   unnamed: 0                     9688 non-null   int64         \n",
      " 1   customer                       9688 non-null   object        \n",
      " 2   state                          9688 non-null   object        \n",
      " 3   customer lifetime value        9688 non-null   float64       \n",
      " 4   response                       9688 non-null   object        \n",
      " 5   coverage                       9688 non-null   object        \n",
      " 6   education                      9688 non-null   object        \n",
      " 7   effective to date              9688 non-null   datetime64[ns]\n",
      " 8   employmentstatus               9688 non-null   object        \n",
      " 9   gender                         9688 non-null   object        \n",
      " 10  income                         9688 non-null   int64         \n",
      " 11  location code                  9688 non-null   object        \n",
      " 12  marital status                 9688 non-null   object        \n",
      " 13  monthly premium auto           9688 non-null   int64         \n",
      " 14  months since last claim        9688 non-null   float64       \n",
      " 15  months since policy inception  9688 non-null   int64         \n",
      " 16  number of open complaints      9688 non-null   float64       \n",
      " 17  number of policies             9688 non-null   int64         \n",
      " 18  policy type                    9688 non-null   object        \n",
      " 19  policy                         9688 non-null   object        \n",
      " 20  renew offer type               9688 non-null   object        \n",
      " 21  sales channel                  9688 non-null   object        \n",
      " 22  total claim amount             9688 non-null   float64       \n",
      " 23  vehicle class                  9688 non-null   object        \n",
      " 24  vehicle size                   9688 non-null   object        \n",
      " 25  vehicle type                   9688 non-null   object        \n",
      "dtypes: datetime64[ns](1), float64(4), int64(5), object(16)\n",
      "memory usage: 2.0+ MB\n"
     ]
    },
    {
     "data": {
      "text/plain": [
       "None"
      ]
     },
     "metadata": {},
     "output_type": "display_data"
    }
   ],
   "source": [
    "display(marketing_customer_analysis.info())"
   ]
  },
  {
   "cell_type": "code",
   "execution_count": 94,
   "id": "30309990",
   "metadata": {},
   "outputs": [
    {
     "data": {
      "text/html": [
       "<div>\n",
       "<style scoped>\n",
       "    .dataframe tbody tr th:only-of-type {\n",
       "        vertical-align: middle;\n",
       "    }\n",
       "\n",
       "    .dataframe tbody tr th {\n",
       "        vertical-align: top;\n",
       "    }\n",
       "\n",
       "    .dataframe thead th {\n",
       "        text-align: right;\n",
       "    }\n",
       "</style>\n",
       "<table border=\"1\" class=\"dataframe\">\n",
       "  <thead>\n",
       "    <tr style=\"text-align: right;\">\n",
       "      <th></th>\n",
       "      <th>unnamed: 0</th>\n",
       "      <th>customer</th>\n",
       "      <th>state</th>\n",
       "      <th>customer lifetime value</th>\n",
       "      <th>response</th>\n",
       "      <th>coverage</th>\n",
       "      <th>education</th>\n",
       "      <th>effective to date</th>\n",
       "      <th>employmentstatus</th>\n",
       "      <th>gender</th>\n",
       "      <th>...</th>\n",
       "      <th>number of open complaints</th>\n",
       "      <th>number of policies</th>\n",
       "      <th>policy type</th>\n",
       "      <th>policy</th>\n",
       "      <th>renew offer type</th>\n",
       "      <th>sales channel</th>\n",
       "      <th>total claim amount</th>\n",
       "      <th>vehicle class</th>\n",
       "      <th>vehicle size</th>\n",
       "      <th>vehicle type</th>\n",
       "    </tr>\n",
       "  </thead>\n",
       "  <tbody>\n",
       "    <tr>\n",
       "      <th>0</th>\n",
       "      <td>0</td>\n",
       "      <td>DK49336</td>\n",
       "      <td>Arizona</td>\n",
       "      <td>4809.216960</td>\n",
       "      <td>No</td>\n",
       "      <td>Basic</td>\n",
       "      <td>College</td>\n",
       "      <td>2011-02-18</td>\n",
       "      <td>Employed</td>\n",
       "      <td>M</td>\n",
       "      <td>...</td>\n",
       "      <td>0.0</td>\n",
       "      <td>9</td>\n",
       "      <td>Corporate Auto</td>\n",
       "      <td>Corporate L3</td>\n",
       "      <td>Offer3</td>\n",
       "      <td>Agent</td>\n",
       "      <td>292.800000</td>\n",
       "      <td>Four-Door Car</td>\n",
       "      <td>Medsize</td>\n",
       "      <td>A</td>\n",
       "    </tr>\n",
       "    <tr>\n",
       "      <th>1</th>\n",
       "      <td>1</td>\n",
       "      <td>KX64629</td>\n",
       "      <td>California</td>\n",
       "      <td>2228.525238</td>\n",
       "      <td>No</td>\n",
       "      <td>Basic</td>\n",
       "      <td>College</td>\n",
       "      <td>2011-01-18</td>\n",
       "      <td>Unemployed</td>\n",
       "      <td>F</td>\n",
       "      <td>...</td>\n",
       "      <td>0.0</td>\n",
       "      <td>1</td>\n",
       "      <td>Personal Auto</td>\n",
       "      <td>Personal L3</td>\n",
       "      <td>Offer4</td>\n",
       "      <td>Call Center</td>\n",
       "      <td>744.924331</td>\n",
       "      <td>Four-Door Car</td>\n",
       "      <td>Medsize</td>\n",
       "      <td>A</td>\n",
       "    </tr>\n",
       "    <tr>\n",
       "      <th>2</th>\n",
       "      <td>2</td>\n",
       "      <td>LZ68649</td>\n",
       "      <td>Washington</td>\n",
       "      <td>14947.917300</td>\n",
       "      <td>No</td>\n",
       "      <td>Basic</td>\n",
       "      <td>Bachelor</td>\n",
       "      <td>2011-02-10</td>\n",
       "      <td>Employed</td>\n",
       "      <td>M</td>\n",
       "      <td>...</td>\n",
       "      <td>0.0</td>\n",
       "      <td>2</td>\n",
       "      <td>Personal Auto</td>\n",
       "      <td>Personal L3</td>\n",
       "      <td>Offer3</td>\n",
       "      <td>Call Center</td>\n",
       "      <td>480.000000</td>\n",
       "      <td>SUV</td>\n",
       "      <td>Medsize</td>\n",
       "      <td>A</td>\n",
       "    </tr>\n",
       "    <tr>\n",
       "      <th>3</th>\n",
       "      <td>3</td>\n",
       "      <td>XL78013</td>\n",
       "      <td>Oregon</td>\n",
       "      <td>22332.439460</td>\n",
       "      <td>Yes</td>\n",
       "      <td>Extended</td>\n",
       "      <td>College</td>\n",
       "      <td>2011-01-11</td>\n",
       "      <td>Employed</td>\n",
       "      <td>M</td>\n",
       "      <td>...</td>\n",
       "      <td>0.0</td>\n",
       "      <td>2</td>\n",
       "      <td>Corporate Auto</td>\n",
       "      <td>Corporate L3</td>\n",
       "      <td>Offer2</td>\n",
       "      <td>Branch</td>\n",
       "      <td>484.013411</td>\n",
       "      <td>Four-Door Car</td>\n",
       "      <td>Medsize</td>\n",
       "      <td>A</td>\n",
       "    </tr>\n",
       "    <tr>\n",
       "      <th>4</th>\n",
       "      <td>4</td>\n",
       "      <td>QA50777</td>\n",
       "      <td>Oregon</td>\n",
       "      <td>9025.067525</td>\n",
       "      <td>No</td>\n",
       "      <td>Premium</td>\n",
       "      <td>Bachelor</td>\n",
       "      <td>2011-01-17</td>\n",
       "      <td>Medical Leave</td>\n",
       "      <td>F</td>\n",
       "      <td>...</td>\n",
       "      <td>0.0</td>\n",
       "      <td>7</td>\n",
       "      <td>Personal Auto</td>\n",
       "      <td>Personal L2</td>\n",
       "      <td>Offer1</td>\n",
       "      <td>Branch</td>\n",
       "      <td>707.925645</td>\n",
       "      <td>Four-Door Car</td>\n",
       "      <td>Medsize</td>\n",
       "      <td>A</td>\n",
       "    </tr>\n",
       "  </tbody>\n",
       "</table>\n",
       "<p>5 rows × 26 columns</p>\n",
       "</div>"
      ],
      "text/plain": [
       "   unnamed: 0 customer       state  customer lifetime value response  \\\n",
       "0           0  DK49336     Arizona              4809.216960       No   \n",
       "1           1  KX64629  California              2228.525238       No   \n",
       "2           2  LZ68649  Washington             14947.917300       No   \n",
       "3           3  XL78013      Oregon             22332.439460      Yes   \n",
       "4           4  QA50777      Oregon              9025.067525       No   \n",
       "\n",
       "   coverage education effective to date employmentstatus gender  ...  \\\n",
       "0     Basic   College        2011-02-18         Employed      M  ...   \n",
       "1     Basic   College        2011-01-18       Unemployed      F  ...   \n",
       "2     Basic  Bachelor        2011-02-10         Employed      M  ...   \n",
       "3  Extended   College        2011-01-11         Employed      M  ...   \n",
       "4   Premium  Bachelor        2011-01-17    Medical Leave      F  ...   \n",
       "\n",
       "   number of open complaints number of policies     policy type        policy  \\\n",
       "0                        0.0                  9  Corporate Auto  Corporate L3   \n",
       "1                        0.0                  1   Personal Auto   Personal L3   \n",
       "2                        0.0                  2   Personal Auto   Personal L3   \n",
       "3                        0.0                  2  Corporate Auto  Corporate L3   \n",
       "4                        0.0                  7   Personal Auto   Personal L2   \n",
       "\n",
       "   renew offer type  sales channel  total claim amount  vehicle class  \\\n",
       "0            Offer3          Agent          292.800000  Four-Door Car   \n",
       "1            Offer4    Call Center          744.924331  Four-Door Car   \n",
       "2            Offer3    Call Center          480.000000            SUV   \n",
       "3            Offer2         Branch          484.013411  Four-Door Car   \n",
       "4            Offer1         Branch          707.925645  Four-Door Car   \n",
       "\n",
       "  vehicle size vehicle type  \n",
       "0      Medsize            A  \n",
       "1      Medsize            A  \n",
       "2      Medsize            A  \n",
       "3      Medsize            A  \n",
       "4      Medsize            A  \n",
       "\n",
       "[5 rows x 26 columns]"
      ]
     },
     "execution_count": 94,
     "metadata": {},
     "output_type": "execute_result"
    }
   ],
   "source": [
    "marketing_customer_analysis.head()"
   ]
  },
  {
   "cell_type": "code",
   "execution_count": 12,
   "id": "a1484b28",
   "metadata": {},
   "outputs": [],
   "source": [
    "#5) Datetime format - Extract the months from the dataset and store in a separate column. Then filter the data to show only the information for the first quarter , ie. January, February and March. Hint: If data from March does not exist, consider only January and February."
   ]
  },
  {
   "cell_type": "code",
   "execution_count": 13,
   "id": "2d578dfa",
   "metadata": {},
   "outputs": [],
   "source": [
    "#6) BONUS: Put all the previously mentioned data transformations into a function."
   ]
  }
 ],
 "metadata": {
  "kernelspec": {
   "display_name": "Python 3 (ipykernel)",
   "language": "python",
   "name": "python3"
  },
  "language_info": {
   "codemirror_mode": {
    "name": "ipython",
    "version": 3
   },
   "file_extension": ".py",
   "mimetype": "text/x-python",
   "name": "python",
   "nbconvert_exporter": "python",
   "pygments_lexer": "ipython3",
   "version": "3.9.13"
  }
 },
 "nbformat": 4,
 "nbformat_minor": 5
}
